{
 "cells": [
  {
   "cell_type": "markdown",
   "id": "7267d9c3",
   "metadata": {},
   "source": [
    "# NLP Project\n",
    "## Emotion classification \n",
    "\n",
    "This is an NLP processing project based on Google's dataset [GoEmotions](https://research.google/blog/goemotions-a-dataset-for-fine-grained-emotion-classification/)\n",
    "\n",
    "In this section, I present the goal of the project: to apply state-of-the-art NLP techniques to classify multiple emotions in short texts, using Google's GoEmotions dataset. The chosen model is BERT, fine-tuned with PyTorch and Hugging Face Transformers.\n",
    "\n",
    "Main objectives:\n",
    "\n",
    "- Fine-tuning of pre-trained model (bert-base-uncased)\n",
    "- Multi-label classification (28 emotion classes)\n",
    "- Export and deployment with FastAPI"
   ]
  },
  {
   "cell_type": "markdown",
   "id": "9b0e1294",
   "metadata": {},
   "source": [
    "# Install required libraries\n",
    "\n",
    "Import essential libraries for the project. Includes:\n",
    "\n",
    "- PyTorch: backend for training.\n",
    "- Transformers: pre-trained models and tokenizers.\n",
    "- Datasets: loading from GoEmotions.\n",
    "- Scikit-learn: evaluation metrics."
   ]
  },
  {
   "cell_type": "code",
   "execution_count": null,
   "id": "f40c8d99",
   "metadata": {},
   "outputs": [],
   "source": [
    "!pip install torch torchvision torchaudio\n",
    "!pip install transformers datasets\n",
    "!pip install scikit-learn matplotlib"
   ]
  },
  {
   "cell_type": "code",
   "execution_count": 71,
   "id": "4e12dbaa",
   "metadata": {},
   "outputs": [],
   "source": [
    "import numpy as np\n",
    "import matplotlib.pyplot as plt\n",
    "import torch\n",
    "import torch.nn as nn\n",
    "from datasets import load_dataset\n",
    "\n",
    "from transformers import BertTokenizer, BertForSequenceClassification\n",
    "from transformers import TrainingArguments, Trainer, pipeline\n",
    "\n",
    "from sklearn.metrics import f1_score, accuracy_score"
   ]
  },
  {
   "cell_type": "code",
   "execution_count": 40,
   "id": "0315bea5",
   "metadata": {},
   "outputs": [],
   "source": [
    "model_name = 'bert-base-uncased'"
   ]
  },
  {
   "cell_type": "markdown",
   "id": "4d526fe5",
   "metadata": {},
   "source": [
    "# Dataset Exploration & Loading\n",
    "\n",
    "Using the datasets library to automatically load the GoEmotions dataset.\n",
    "This dataset contains over 58,000 examples of short texts annotated with multiple emotions, ideal for multi-label problems.\n",
    "\n",
    "Actions in this step:\n",
    "\n",
    "Analyze the characteristics of the dataset.\n",
    "\n",
    "Check the distribution of labels for possible imbalance problems."
   ]
  },
  {
   "cell_type": "code",
   "execution_count": 41,
   "id": "6636f700",
   "metadata": {},
   "outputs": [
    {
     "name": "stdout",
     "output_type": "stream",
     "text": [
      "{'text': \"My favourite food is anything I didn't have to cook myself.\", 'labels': [27], 'id': 'eebbqej'}\n"
     ]
    }
   ],
   "source": [
    "dataset = load_dataset(\"go_emotions\")\n",
    "print(dataset[\"train\"][0]) "
   ]
  },
  {
   "cell_type": "code",
   "execution_count": 42,
   "id": "fb369576",
   "metadata": {},
   "outputs": [
    {
     "data": {
      "text/plain": [
       "[\"My favourite food is anything I didn't have to cook myself.\",\n",
       " 'Now if he does off himself, everyone will think hes having a laugh screwing with people instead of actually dead',\n",
       " 'WHY THE FUCK IS BAYLESS ISOING',\n",
       " 'To make her feel threatened',\n",
       " 'Dirty Southern Wankers',\n",
       " \"OmG pEyToN iSn'T gOoD eNoUgH tO hElP uS iN tHe PlAyOfFs! Dumbass Broncos fans circa December 2015.\",\n",
       " 'Yes I heard abt the f bombs! That has to be why. Thanks for your reply:) until then hubby and I will anxiously wait 😝',\n",
       " 'We need more boards and to create a bit more space for [NAME]. Then we’ll be good.',\n",
       " 'Damn youtube and outrage drama is super lucrative for reddit',\n",
       " 'It might be linked to the trust factor of your friend.']"
      ]
     },
     "execution_count": 42,
     "metadata": {},
     "output_type": "execute_result"
    }
   ],
   "source": [
    "dataset[\"train\"][\"text\"][:10]"
   ]
  },
  {
   "cell_type": "code",
   "execution_count": 43,
   "id": "f949365f",
   "metadata": {},
   "outputs": [],
   "source": [
    "emotions = [\n",
    "    \"admiration\",\n",
    "    \"amusement\",\n",
    "    \"anger\",\n",
    "    \"annoyance\",\n",
    "    \"approval\",\n",
    "    \"caring\",\n",
    "    \"confusion\",\n",
    "    \"curiosity\",\n",
    "    \"desire\",\n",
    "    \"disappointment\",\n",
    "    \"disapproval\",\n",
    "    \"disgust\",\n",
    "    \"embarrassment\",\n",
    "    \"excitement\",\n",
    "    \"fear\",\n",
    "    \"gratitude\",\n",
    "    \"grief\",\n",
    "    \"joy\",\n",
    "    \"love\",\n",
    "    \"nervousness\",\n",
    "    \"optimism\",\n",
    "    \"pride\",\n",
    "    \"realization\",\n",
    "    \"relief\",\n",
    "    \"remorse\",\n",
    "    \"sadness\",\n",
    "    \"surprise\",\n",
    "    \"neutral\",\n",
    "]"
   ]
  },
  {
   "cell_type": "markdown",
   "id": "11742ee6",
   "metadata": {},
   "source": [
    "Create a dict with each emotion ocurrence"
   ]
  },
  {
   "cell_type": "code",
   "execution_count": 44,
   "id": "9aa13de8",
   "metadata": {},
   "outputs": [
    {
     "name": "stdout",
     "output_type": "stream",
     "text": [
      "{'admiration': 5122, 'amusement': 2895, 'anger': 1960, 'annoyance': 3093, 'approval': 3687, 'caring': 1375, 'confusion': 1673, 'curiosity': 2723, 'desire': 801, 'disappointment': 1583, 'disapproval': 2581, 'disgust': 1013, 'embarrassment': 375, 'excitement': 1052, 'fear': 764, 'gratitude': 3372, 'grief': 96, 'joy': 1785, 'love': 2576, 'nervousness': 208, 'optimism': 1976, 'pride': 142, 'realization': 1382, 'relief': 182, 'remorse': 669, 'sadness': 1625, 'surprise': 1330, 'neutral': 17772}\n"
     ]
    }
   ],
   "source": [
    "counts = [0] * len(emotions)\n",
    "\n",
    "for split in dataset: # train, validation, test\n",
    "    for sample in dataset[split]:\n",
    "        emotions_sample = sample[\"labels\"]\n",
    "        for emotion in emotions_sample:\n",
    "            counts[emotion] += 1\n",
    "\n",
    "emotions_count = dict(zip(emotions, counts))\n",
    "print(emotions_count)"
   ]
  },
  {
   "cell_type": "code",
   "execution_count": 46,
   "id": "cfcc88b2",
   "metadata": {},
   "outputs": [
    {
     "data": {
      "image/png": "[encoded data removed]",
      "text/plain": [
       "<Figure size 1000x800 with 1 Axes>"
      ]
     },
     "metadata": {},
     "output_type": "display_data"
    }
   ],
   "source": [
    "plt.figure(figsize=(10, 8))\n",
    "plt.barh(emotions_count.keys(), emotions_count.values())\n",
    "plt.xlabel(\"Emotion\")\n",
    "plt.ylabel(\"Count\")\n",
    "plt.title(\"Emotion count\")\n",
    "plt.show()"
   ]
  },
  {
   "cell_type": "markdown",
   "id": "c1abb39b",
   "metadata": {},
   "source": [
    "It is clearly visible that our dataset is unbalanced in respect to the emotions distribution. But, for the purpose of this project it's enough."
   ]
  },
  {
   "cell_type": "markdown",
   "id": "f17364d8",
   "metadata": {},
   "source": [
    "# Multi-hot encoding\n",
    "\n",
    "For this kind of multi label classification tasks as this, it's necessary to convert the integer values to multi-hot encoded vectors."
   ]
  },
  {
   "cell_type": "code",
   "execution_count": 47,
   "id": "a8adcf9d",
   "metadata": {},
   "outputs": [],
   "source": [
    "def multi_hot_encode(samples):\n",
    "    multi_hot = np.zeros(len(emotions))\n",
    "\n",
    "    for label in samples[\"labels\"]:\n",
    "        multi_hot[label] = 1\n",
    "\n",
    "    return {\"labels\": multi_hot.tolist()}\n",
    "\n",
    "dataset = dataset.map(multi_hot_encode)"
   ]
  },
  {
   "cell_type": "code",
   "execution_count": 48,
   "id": "5bda68f6",
   "metadata": {},
   "outputs": [
    {
     "name": "stdout",
     "output_type": "stream",
     "text": [
      "[0, 0, 0, 0, 0, 0, 0, 0, 1, 0, 0, 0, 0, 0, 0, 0, 0, 0, 0, 0, 1, 0, 0, 0, 0, 0, 0, 0]\n"
     ]
    }
   ],
   "source": [
    "print(dataset[\"train\"][7][\"labels\"])"
   ]
  },
  {
   "cell_type": "markdown",
   "id": "85646b69",
   "metadata": {},
   "source": [
    "# Tokenizing\n"
   ]
  },
  {
   "cell_type": "code",
   "execution_count": 49,
   "id": "d704cc05",
   "metadata": {},
   "outputs": [
    {
     "name": "stderr",
     "output_type": "stream",
     "text": [
      "Map: 100%|██████████| 43410/43410 [00:18<00:00, 2337.13 examples/s]\n",
      "Map: 100%|██████████| 5426/5426 [00:02<00:00, 2365.67 examples/s]\n",
      "Map: 100%|██████████| 5427/5427 [00:02<00:00, 2363.89 examples/s]\n"
     ]
    }
   ],
   "source": [
    "tokenizer = BertTokenizer.from_pretrained(model_name)\n",
    "\n",
    "def tokenize_function(examples):\n",
    "    return tokenizer(examples[\"text\"], padding=\"max_length\", truncation=True, max_length=128)\n",
    "\n",
    "tokenized_dataset = dataset.map(tokenize_function, batched=True)"
   ]
  },
  {
   "cell_type": "code",
   "execution_count": 50,
   "id": "3fc304c8",
   "metadata": {},
   "outputs": [
    {
     "name": "stdout",
     "output_type": "stream",
     "text": [
      "{'text': 'We need more boards and to create a bit more space for [NAME]. Then we’ll be good.', 'labels': [0, 0, 0, 0, 0, 0, 0, 0, 1, 0, 0, 0, 0, 0, 0, 0, 0, 0, 0, 0, 1, 0, 0, 0, 0, 0, 0, 0], 'id': 'ef4qmod', 'input_ids': [101, 2057, 2342, 2062, 7923, 1998, 2000, 3443, 1037, 2978, 2062, 2686, 2005, 1031, 2171, 1033, 1012, 2059, 2057, 1521, 2222, 2022, 2204, 1012, 102, 0, 0, 0, 0, 0, 0, 0, 0, 0, 0, 0, 0, 0, 0, 0, 0, 0, 0, 0, 0, 0, 0, 0, 0, 0, 0, 0, 0, 0, 0, 0, 0, 0, 0, 0, 0, 0, 0, 0, 0, 0, 0, 0, 0, 0, 0, 0, 0, 0, 0, 0, 0, 0, 0, 0, 0, 0, 0, 0, 0, 0, 0, 0, 0, 0, 0, 0, 0, 0, 0, 0, 0, 0, 0, 0, 0, 0, 0, 0, 0, 0, 0, 0, 0, 0, 0, 0, 0, 0, 0, 0, 0, 0, 0, 0, 0, 0, 0, 0, 0, 0, 0, 0], 'token_type_ids': [0, 0, 0, 0, 0, 0, 0, 0, 0, 0, 0, 0, 0, 0, 0, 0, 0, 0, 0, 0, 0, 0, 0, 0, 0, 0, 0, 0, 0, 0, 0, 0, 0, 0, 0, 0, 0, 0, 0, 0, 0, 0, 0, 0, 0, 0, 0, 0, 0, 0, 0, 0, 0, 0, 0, 0, 0, 0, 0, 0, 0, 0, 0, 0, 0, 0, 0, 0, 0, 0, 0, 0, 0, 0, 0, 0, 0, 0, 0, 0, 0, 0, 0, 0, 0, 0, 0, 0, 0, 0, 0, 0, 0, 0, 0, 0, 0, 0, 0, 0, 0, 0, 0, 0, 0, 0, 0, 0, 0, 0, 0, 0, 0, 0, 0, 0, 0, 0, 0, 0, 0, 0, 0, 0, 0, 0, 0, 0], 'attention_mask': [1, 1, 1, 1, 1, 1, 1, 1, 1, 1, 1, 1, 1, 1, 1, 1, 1, 1, 1, 1, 1, 1, 1, 1, 1, 0, 0, 0, 0, 0, 0, 0, 0, 0, 0, 0, 0, 0, 0, 0, 0, 0, 0, 0, 0, 0, 0, 0, 0, 0, 0, 0, 0, 0, 0, 0, 0, 0, 0, 0, 0, 0, 0, 0, 0, 0, 0, 0, 0, 0, 0, 0, 0, 0, 0, 0, 0, 0, 0, 0, 0, 0, 0, 0, 0, 0, 0, 0, 0, 0, 0, 0, 0, 0, 0, 0, 0, 0, 0, 0, 0, 0, 0, 0, 0, 0, 0, 0, 0, 0, 0, 0, 0, 0, 0, 0, 0, 0, 0, 0, 0, 0, 0, 0, 0, 0, 0, 0]}\n"
     ]
    }
   ],
   "source": [
    "print(tokenized_dataset[\"train\"][7])"
   ]
  },
  {
   "cell_type": "markdown",
   "id": "1677a482",
   "metadata": {},
   "source": [
    "Now we need to convert all values from our dataset to a Pytorch friendly format, such as `torch.tensors`"
   ]
  },
  {
   "cell_type": "code",
   "execution_count": 51,
   "id": "0e994212",
   "metadata": {},
   "outputs": [
    {
     "name": "stdout",
     "output_type": "stream",
     "text": [
      "{'text': 'We need more boards and to create a bit more space for [NAME]. Then we’ll be good.', 'labels': tensor([0, 0, 0, 0, 0, 0, 0, 0, 1, 0, 0, 0, 0, 0, 0, 0, 0, 0, 0, 0, 1, 0, 0, 0,\n",
      "        0, 0, 0, 0]), 'id': 'ef4qmod', 'input_ids': tensor([ 101, 2057, 2342, 2062, 7923, 1998, 2000, 3443, 1037, 2978, 2062, 2686,\n",
      "        2005, 1031, 2171, 1033, 1012, 2059, 2057, 1521, 2222, 2022, 2204, 1012,\n",
      "         102,    0,    0,    0,    0,    0,    0,    0,    0,    0,    0,    0,\n",
      "           0,    0,    0,    0,    0,    0,    0,    0,    0,    0,    0,    0,\n",
      "           0,    0,    0,    0,    0,    0,    0,    0,    0,    0,    0,    0,\n",
      "           0,    0,    0,    0,    0,    0,    0,    0,    0,    0,    0,    0,\n",
      "           0,    0,    0,    0,    0,    0,    0,    0,    0,    0,    0,    0,\n",
      "           0,    0,    0,    0,    0,    0,    0,    0,    0,    0,    0,    0,\n",
      "           0,    0,    0,    0,    0,    0,    0,    0,    0,    0,    0,    0,\n",
      "           0,    0,    0,    0,    0,    0,    0,    0,    0,    0,    0,    0,\n",
      "           0,    0,    0,    0,    0,    0,    0,    0]), 'token_type_ids': tensor([0, 0, 0, 0, 0, 0, 0, 0, 0, 0, 0, 0, 0, 0, 0, 0, 0, 0, 0, 0, 0, 0, 0, 0,\n",
      "        0, 0, 0, 0, 0, 0, 0, 0, 0, 0, 0, 0, 0, 0, 0, 0, 0, 0, 0, 0, 0, 0, 0, 0,\n",
      "        0, 0, 0, 0, 0, 0, 0, 0, 0, 0, 0, 0, 0, 0, 0, 0, 0, 0, 0, 0, 0, 0, 0, 0,\n",
      "        0, 0, 0, 0, 0, 0, 0, 0, 0, 0, 0, 0, 0, 0, 0, 0, 0, 0, 0, 0, 0, 0, 0, 0,\n",
      "        0, 0, 0, 0, 0, 0, 0, 0, 0, 0, 0, 0, 0, 0, 0, 0, 0, 0, 0, 0, 0, 0, 0, 0,\n",
      "        0, 0, 0, 0, 0, 0, 0, 0]), 'attention_mask': tensor([1, 1, 1, 1, 1, 1, 1, 1, 1, 1, 1, 1, 1, 1, 1, 1, 1, 1, 1, 1, 1, 1, 1, 1,\n",
      "        1, 0, 0, 0, 0, 0, 0, 0, 0, 0, 0, 0, 0, 0, 0, 0, 0, 0, 0, 0, 0, 0, 0, 0,\n",
      "        0, 0, 0, 0, 0, 0, 0, 0, 0, 0, 0, 0, 0, 0, 0, 0, 0, 0, 0, 0, 0, 0, 0, 0,\n",
      "        0, 0, 0, 0, 0, 0, 0, 0, 0, 0, 0, 0, 0, 0, 0, 0, 0, 0, 0, 0, 0, 0, 0, 0,\n",
      "        0, 0, 0, 0, 0, 0, 0, 0, 0, 0, 0, 0, 0, 0, 0, 0, 0, 0, 0, 0, 0, 0, 0, 0,\n",
      "        0, 0, 0, 0, 0, 0, 0, 0])}\n"
     ]
    }
   ],
   "source": [
    "# Change `__getitem__` return format\n",
    "tokenized_dataset.set_format(\"torch\")\n",
    "\n",
    "print(tokenized_dataset[\"train\"][7])"
   ]
  },
  {
   "cell_type": "markdown",
   "id": "e5348323",
   "metadata": {},
   "source": [
    "## Labels conversion to float\n",
    "\n",
    "When using `BertForSequenceClassification` with `problem_type=\"multi_label_classification\"`, the model internally relies on the `BCEWithLogitsLoss` function, which **requires target labels to be of type `float`**.\n",
    "Originally, the labels were of type `int` (`LongTensor`), which would trigger the following runtime error during training:\n",
    "\n",
    "*RuntimeError: result type Float can't be cast to the desired output type Long*\n",
    "\n",
    "To ensure compatibility with the expected input of the loss function, we need to convert the label tensors from `int` to `float` using the `.map()` method, while preserving the `\"labels\"` column name."
   ]
  },
  {
   "cell_type": "code",
   "execution_count": 52,
   "id": "4e5939b2",
   "metadata": {},
   "outputs": [
    {
     "name": "stderr",
     "output_type": "stream",
     "text": [
      "Map: 100%|██████████| 43410/43410 [00:26<00:00, 1630.40 examples/s]\n",
      "Map: 100%|██████████| 5426/5426 [00:03<00:00, 1677.20 examples/s]\n",
      "Map: 100%|██████████| 5427/5427 [00:03<00:00, 1594.33 examples/s]\n"
     ]
    }
   ],
   "source": [
    "convert_to_float = lambda sample: {\"float_labels\": sample[\"labels\"].to(torch.float)}\n",
    "\n",
    "tokenized_dataset = (tokenized_dataset\n",
    "                     .map(convert_to_float, remove_columns=[\"labels\"])\n",
    "                     .rename_column(\"float_labels\", \"labels\"))"
   ]
  },
  {
   "cell_type": "code",
   "execution_count": 53,
   "id": "26c4b8f6",
   "metadata": {},
   "outputs": [
    {
     "name": "stdout",
     "output_type": "stream",
     "text": [
      "{'text': \"My favourite food is anything I didn't have to cook myself.\", 'id': 'eebbqej', 'input_ids': tensor([ 101, 2026, 8837, 2833, 2003, 2505, 1045, 2134, 1005, 1056, 2031, 2000,\n",
      "        5660, 2870, 1012,  102,    0,    0,    0,    0,    0,    0,    0,    0,\n",
      "           0,    0,    0,    0,    0,    0,    0,    0,    0,    0,    0,    0,\n",
      "           0,    0,    0,    0,    0,    0,    0,    0,    0,    0,    0,    0,\n",
      "           0,    0,    0,    0,    0,    0,    0,    0,    0,    0,    0,    0,\n",
      "           0,    0,    0,    0,    0,    0,    0,    0,    0,    0,    0,    0,\n",
      "           0,    0,    0,    0,    0,    0,    0,    0,    0,    0,    0,    0,\n",
      "           0,    0,    0,    0,    0,    0,    0,    0,    0,    0,    0,    0,\n",
      "           0,    0,    0,    0,    0,    0,    0,    0,    0,    0,    0,    0,\n",
      "           0,    0,    0,    0,    0,    0,    0,    0,    0,    0,    0,    0,\n",
      "           0,    0,    0,    0,    0,    0,    0,    0]), 'token_type_ids': tensor([0, 0, 0, 0, 0, 0, 0, 0, 0, 0, 0, 0, 0, 0, 0, 0, 0, 0, 0, 0, 0, 0, 0, 0,\n",
      "        0, 0, 0, 0, 0, 0, 0, 0, 0, 0, 0, 0, 0, 0, 0, 0, 0, 0, 0, 0, 0, 0, 0, 0,\n",
      "        0, 0, 0, 0, 0, 0, 0, 0, 0, 0, 0, 0, 0, 0, 0, 0, 0, 0, 0, 0, 0, 0, 0, 0,\n",
      "        0, 0, 0, 0, 0, 0, 0, 0, 0, 0, 0, 0, 0, 0, 0, 0, 0, 0, 0, 0, 0, 0, 0, 0,\n",
      "        0, 0, 0, 0, 0, 0, 0, 0, 0, 0, 0, 0, 0, 0, 0, 0, 0, 0, 0, 0, 0, 0, 0, 0,\n",
      "        0, 0, 0, 0, 0, 0, 0, 0]), 'attention_mask': tensor([1, 1, 1, 1, 1, 1, 1, 1, 1, 1, 1, 1, 1, 1, 1, 1, 0, 0, 0, 0, 0, 0, 0, 0,\n",
      "        0, 0, 0, 0, 0, 0, 0, 0, 0, 0, 0, 0, 0, 0, 0, 0, 0, 0, 0, 0, 0, 0, 0, 0,\n",
      "        0, 0, 0, 0, 0, 0, 0, 0, 0, 0, 0, 0, 0, 0, 0, 0, 0, 0, 0, 0, 0, 0, 0, 0,\n",
      "        0, 0, 0, 0, 0, 0, 0, 0, 0, 0, 0, 0, 0, 0, 0, 0, 0, 0, 0, 0, 0, 0, 0, 0,\n",
      "        0, 0, 0, 0, 0, 0, 0, 0, 0, 0, 0, 0, 0, 0, 0, 0, 0, 0, 0, 0, 0, 0, 0, 0,\n",
      "        0, 0, 0, 0, 0, 0, 0, 0]), 'labels': tensor([0., 0., 0., 0., 0., 0., 0., 0., 0., 0., 0., 0., 0., 0., 0., 0., 0., 0.,\n",
      "        0., 0., 0., 0., 0., 0., 0., 0., 0., 1.])}\n"
     ]
    }
   ],
   "source": [
    "print(tokenized_dataset[\"train\"][0])"
   ]
  },
  {
   "cell_type": "markdown",
   "id": "06334ea7",
   "metadata": {},
   "source": [
    "# Model Definition: Fine-tuning BERT\n",
    "\n",
    "In this section, I define the base BertForSequenceClassification model with problem_type='multi_label_classification'.\n",
    "\n",
    "Motivations:\n",
    "- To harness the power of BERT in natural language understanding.\n",
    "- To fine-tune the output layer for multiple simultaneous emotions."
   ]
  },
  {
   "cell_type": "code",
   "execution_count": 54,
   "id": "19e42235",
   "metadata": {},
   "outputs": [
    {
     "name": "stderr",
     "output_type": "stream",
     "text": [
      "Some weights of BertForSequenceClassification were not initialized from the model checkpoint at bert-base-uncased and are newly initialized: ['classifier.bias', 'classifier.weight']\n",
      "You should probably TRAIN this model on a down-stream task to be able to use it for predictions and inference.\n"
     ]
    }
   ],
   "source": [
    "model = BertForSequenceClassification.from_pretrained(\n",
    "    model_name,\n",
    "    num_labels=len(emotions),\n",
    "    problem_type=\"multi_label_classification\"\n",
    ")"
   ]
  },
  {
   "cell_type": "markdown",
   "id": "859f84ed",
   "metadata": {},
   "source": [
    "Then configure the model to use GPU"
   ]
  },
  {
   "cell_type": "code",
   "execution_count": 55,
   "id": "3b350a31",
   "metadata": {},
   "outputs": [
    {
     "name": "stdout",
     "output_type": "stream",
     "text": [
      "cuda:0\n"
     ]
    }
   ],
   "source": [
    "device = \"cuda:0\" if torch.cuda.is_available() else \"cpu\"\n",
    "print(device)\n",
    "model = model.to(device)"
   ]
  },
  {
   "cell_type": "markdown",
   "id": "4fb834db",
   "metadata": {},
   "source": [
    "# Hyperparameter Configuration and Training\n",
    "\n",
    "Configuration of training arguments via TrainingArguments and training with Trainer.\n",
    "\n",
    "Hyperparameters defined:\n",
    "\n",
    "Learning rate\n",
    "\n",
    "Batch size\n",
    "\n",
    "Number of epochs\n",
    "\n",
    "Evaluation strategy (eval_strategy='epoch')\n",
    "\n",
    "Note:\n",
    "Use fp16=True to speed up training with lower memory consumption (Mixed Precision)."
   ]
  },
  {
   "cell_type": "code",
   "execution_count": 56,
   "id": "cff06f9c",
   "metadata": {},
   "outputs": [],
   "source": [
    "LEARNING_RATE = 2e-5\n",
    "BATCH_SIZE = 16\n",
    "EPOCHS = 10\n",
    "WEIGHT_DECAY = 1e-2"
   ]
  },
  {
   "cell_type": "code",
   "execution_count": 57,
   "id": "12fc4dcc",
   "metadata": {},
   "outputs": [],
   "source": [
    "training_args = TrainingArguments(\n",
    "    output_dir=\"./results\",\n",
    "    eval_strategy=\"epoch\",\n",
    "    learning_rate=LEARNING_RATE,\n",
    "    per_device_train_batch_size=BATCH_SIZE,\n",
    "    per_device_eval_batch_size=BATCH_SIZE,\n",
    "    num_train_epochs=EPOCHS,\n",
    "    weight_decay=WEIGHT_DECAY,\n",
    "    fp16=True  # mixed precision\n",
    ")"
   ]
  },
  {
   "cell_type": "code",
   "execution_count": 58,
   "id": "b16dcc21",
   "metadata": {},
   "outputs": [],
   "source": [
    "def compute_metrics(pred):\n",
    "    logits, labels = pred\n",
    "    preds = (logits > 0.5).astype(int)  # threshold para multi-label, ajustável!\n",
    "\n",
    "    f1 = f1_score(labels, preds, average='micro')  \n",
    "    acc = accuracy_score(labels, preds)\n",
    "\n",
    "    return {\n",
    "        'f1': f1,\n",
    "        'accuracy': acc\n",
    "    }"
   ]
  },
  {
   "cell_type": "code",
   "execution_count": 59,
   "id": "b858008f",
   "metadata": {},
   "outputs": [],
   "source": [
    "# Criar o Trainer\n",
    "trainer = Trainer(\n",
    "    model=model,\n",
    "    args=training_args,\n",
    "    train_dataset=tokenized_dataset[\"train\"],\n",
    "    eval_dataset=tokenized_dataset[\"test\"],\n",
    "    compute_metrics=compute_metrics\n",
    ")\n"
   ]
  },
  {
   "cell_type": "code",
   "execution_count": 60,
   "id": "3f145dcd",
   "metadata": {},
   "outputs": [
    {
     "data": {
      "text/html": [
       "\n",
       "    <div>\n",
       "      \n",
       "      <progress value='27140' max='27140' style='width:300px; height:20px; vertical-align: middle;'></progress>\n",
       "      [27140/27140 1:09:38, Epoch 10/10]\n",
       "    </div>\n",
       "    <table border=\"1\" class=\"dataframe\">\n",
       "  <thead>\n",
       " <tr style=\"text-align: left;\">\n",
       "      <th>Epoch</th>\n",
       "      <th>Training Loss</th>\n",
       "      <th>Validation Loss</th>\n",
       "      <th>F1</th>\n",
       "      <th>Accuracy</th>\n",
       "    </tr>\n",
       "  </thead>\n",
       "  <tbody>\n",
       "    <tr>\n",
       "      <td>1</td>\n",
       "      <td>0.097600</td>\n",
       "      <td>0.090551</td>\n",
       "      <td>0.429976</td>\n",
       "      <td>0.286899</td>\n",
       "    </tr>\n",
       "    <tr>\n",
       "      <td>2</td>\n",
       "      <td>0.081000</td>\n",
       "      <td>0.083225</td>\n",
       "      <td>0.506655</td>\n",
       "      <td>0.367238</td>\n",
       "    </tr>\n",
       "    <tr>\n",
       "      <td>3</td>\n",
       "      <td>0.067500</td>\n",
       "      <td>0.084109</td>\n",
       "      <td>0.547904</td>\n",
       "      <td>0.413857</td>\n",
       "    </tr>\n",
       "    <tr>\n",
       "      <td>4</td>\n",
       "      <td>0.058700</td>\n",
       "      <td>0.090021</td>\n",
       "      <td>0.550490</td>\n",
       "      <td>0.425097</td>\n",
       "    </tr>\n",
       "    <tr>\n",
       "      <td>5</td>\n",
       "      <td>0.047300</td>\n",
       "      <td>0.096955</td>\n",
       "      <td>0.561726</td>\n",
       "      <td>0.445366</td>\n",
       "    </tr>\n",
       "    <tr>\n",
       "      <td>6</td>\n",
       "      <td>0.037900</td>\n",
       "      <td>0.102772</td>\n",
       "      <td>0.563456</td>\n",
       "      <td>0.456606</td>\n",
       "    </tr>\n",
       "    <tr>\n",
       "      <td>7</td>\n",
       "      <td>0.032100</td>\n",
       "      <td>0.108690</td>\n",
       "      <td>0.563091</td>\n",
       "      <td>0.455500</td>\n",
       "    </tr>\n",
       "    <tr>\n",
       "      <td>8</td>\n",
       "      <td>0.026700</td>\n",
       "      <td>0.114891</td>\n",
       "      <td>0.561367</td>\n",
       "      <td>0.458080</td>\n",
       "    </tr>\n",
       "    <tr>\n",
       "      <td>9</td>\n",
       "      <td>0.023800</td>\n",
       "      <td>0.117157</td>\n",
       "      <td>0.565542</td>\n",
       "      <td>0.460107</td>\n",
       "    </tr>\n",
       "    <tr>\n",
       "      <td>10</td>\n",
       "      <td>0.021000</td>\n",
       "      <td>0.117953</td>\n",
       "      <td>0.568500</td>\n",
       "      <td>0.463424</td>\n",
       "    </tr>\n",
       "  </tbody>\n",
       "</table><p>"
      ],
      "text/plain": [
       "<IPython.core.display.HTML object>"
      ]
     },
     "metadata": {},
     "output_type": "display_data"
    },
    {
     "data": {
      "text/plain": [
       "TrainOutput(global_step=27140, training_loss=0.05279135978125261, metrics={'train_runtime': 4178.8828, 'train_samples_per_second': 103.879, 'train_steps_per_second': 6.495, 'total_flos': 2.85607930586112e+16, 'train_loss': 0.05279135978125261, 'epoch': 10.0})"
      ]
     },
     "execution_count": 60,
     "metadata": {},
     "output_type": "execute_result"
    }
   ],
   "source": [
    "trainer.train()"
   ]
  },
  {
   "cell_type": "markdown",
   "id": "1d37c14e",
   "metadata": {},
   "source": [
    "Save the model for later use"
   ]
  },
  {
   "cell_type": "code",
   "execution_count": 61,
   "id": "157a3cd9",
   "metadata": {},
   "outputs": [
    {
     "data": {
      "text/plain": [
       "('./goemotions-bert/tokenizer_config.json',\n",
       " './goemotions-bert/special_tokens_map.json',\n",
       " './goemotions-bert/vocab.txt',\n",
       " './goemotions-bert/added_tokens.json')"
      ]
     },
     "execution_count": 61,
     "metadata": {},
     "output_type": "execute_result"
    }
   ],
   "source": [
    "model.save_pretrained(\"./goemotions-bert\")\n",
    "tokenizer.save_pretrained(\"./goemotions-bert\")"
   ]
  },
  {
   "cell_type": "markdown",
   "id": "6afcd6f5",
   "metadata": {},
   "source": [
    "# Testing the pretrained model"
   ]
  },
  {
   "cell_type": "code",
   "execution_count": null,
   "id": "1f91ae48",
   "metadata": {},
   "outputs": [
    {
     "name": "stderr",
     "output_type": "stream",
     "text": [
      "Device set to use cuda:0\n"
     ]
    }
   ],
   "source": [
    "multilabel_pipeline = pipeline(\n",
    "    \"text-classification\",\n",
    "    model=model,\n",
    "    tokenizer=tokenizer,\n",
    "    top_k=None,  # return all pedictions\n",
    ")"
   ]
  },
  {
   "cell_type": "code",
   "execution_count": 85,
   "id": "1fa11c80",
   "metadata": {},
   "outputs": [
    {
     "data": {
      "text/plain": [
       "[[{'label': 'LABEL_18', 'score': 0.87716144323349},\n",
       "  {'label': 'LABEL_2', 'score': 0.5456488728523254},\n",
       "  {'label': 'LABEL_0', 'score': 0.06441766768693924},\n",
       "  {'label': 'LABEL_3', 'score': 0.026155617088079453},\n",
       "  {'label': 'LABEL_10', 'score': 0.022629201412200928},\n",
       "  {'label': 'LABEL_11', 'score': 0.02132808230817318},\n",
       "  {'label': 'LABEL_4', 'score': 0.019050901755690575},\n",
       "  {'label': 'LABEL_15', 'score': 0.013636835850775242},\n",
       "  {'label': 'LABEL_17', 'score': 0.006797531619668007},\n",
       "  {'label': 'LABEL_27', 'score': 0.006413164082914591},\n",
       "  {'label': 'LABEL_5', 'score': 0.006073934491723776},\n",
       "  {'label': 'LABEL_25', 'score': 0.004399413242936134},\n",
       "  {'label': 'LABEL_8', 'score': 0.0027900375425815582},\n",
       "  {'label': 'LABEL_20', 'score': 0.002693914109840989},\n",
       "  {'label': 'LABEL_9', 'score': 0.002191240666434169},\n",
       "  {'label': 'LABEL_22', 'score': 0.001622967072762549},\n",
       "  {'label': 'LABEL_6', 'score': 0.001560889300890267},\n",
       "  {'label': 'LABEL_21', 'score': 0.001356401713564992},\n",
       "  {'label': 'LABEL_16', 'score': 0.0011335690505802631},\n",
       "  {'label': 'LABEL_24', 'score': 0.0010525686666369438},\n",
       "  {'label': 'LABEL_14', 'score': 0.001004416379146278},\n",
       "  {'label': 'LABEL_1', 'score': 0.0009697519708424807},\n",
       "  {'label': 'LABEL_23', 'score': 0.0009075025445781648},\n",
       "  {'label': 'LABEL_7', 'score': 0.0007208379684016109},\n",
       "  {'label': 'LABEL_12', 'score': 0.0007208379684016109},\n",
       "  {'label': 'LABEL_13', 'score': 0.000706905557308346},\n",
       "  {'label': 'LABEL_26', 'score': 0.0005254230345599353},\n",
       "  {'label': 'LABEL_19', 'score': 0.00029595711384899914}]]"
      ]
     },
     "execution_count": 85,
     "metadata": {},
     "output_type": "execute_result"
    }
   ],
   "source": [
    "result = multilabel_pipeline(\"I hate you, but i also like you\")\n",
    "result"
   ]
  },
  {
   "cell_type": "code",
   "execution_count": null,
   "id": "6862282d",
   "metadata": {},
   "outputs": [
    {
     "data": {
      "text/plain": [
       "['anger', 'love']"
      ]
     },
     "execution_count": 84,
     "metadata": {},
     "output_type": "execute_result"
    }
   ],
   "source": [
    "def get_emotion(pred):\n",
    "    \"\"\"\n",
    "    Gets the int number after the _ in \"LABEL_X\"\n",
    "    e.g.: LABEL_18 yields just the integer 18\n",
    "    We use this integer as index to get the original emotion name\n",
    "    \"\"\"\n",
    "    pred_emotion_idx = int(pred[\"label\"].split('_')[1])  \n",
    "    return emotions[pred_emotion_idx]\n",
    "\n",
    "predicted_emotions = [get_emotion(pred) for pred in result[0] if pred[\"score\"] > 0.1]\n",
    "predicted_emotions"
   ]
  },
  {
   "cell_type": "markdown",
   "id": "bff3d416",
   "metadata": {},
   "source": [
    "# Próximos Passos \n",
    "\n",
    "Deploy com FastAPI\n",
    "\n",
    "Descrição:\n",
    "- Recebe texto via requisição HTTP.\n",
    "- Tokeniza.\n",
    "- Retorna as emoções detectadas.\n",
    "\n"
   ]
  },
  {
   "cell_type": "code",
   "execution_count": null,
   "id": "ced4ae8e",
   "metadata": {},
   "outputs": [],
   "source": []
  }
 ],
 "metadata": {
  "kernelspec": {
   "display_name": "torch-env",
   "language": "python",
   "name": "python3"
  },
  "language_info": {
   "codemirror_mode": {
    "name": "ipython",
    "version": 3
   },
   "file_extension": ".py",
   "mimetype": "text/x-python",
   "name": "python",
   "nbconvert_exporter": "python",
   "pygments_lexer": "ipython3",
   "version": "3.10.16"
  }
 },
 "nbformat": 4,
 "nbformat_minor": 5
}
